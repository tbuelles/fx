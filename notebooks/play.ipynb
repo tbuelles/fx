{
 "cells": [
  {
   "cell_type": "code",
   "execution_count": null,
   "metadata": {},
   "outputs": [],
   "source": [
    "# Import necessary libraries\n",
    "import yfinance as yf\n",
    "import pandas as pd\n",
    "import matplotlib.pyplot as plt\n",
    "from datetime import datetime\n",
    "%matplotlib inline\n",
    "\n",
    "from datetime import datetime\n",
    "from pandas.tseries.offsets import BDay\n",
    "\n",
    "# Define start_date as a valid trading day\n",
    "start_date = '2024-12-05'\n",
    "num_days = 10  # Number of trading days\n",
    "interval = \"5m\"\n",
    "\n",
    "# Convert start_date to a datetime object\n",
    "start_date_obj = datetime.strptime(start_date, '%Y-%m-%d')\n",
    "\n",
    "# Automatically calculate end_date as start_date + num_days business days\n",
    "end_date_obj = start_date_obj + BDay(num_days)\n",
    "\n",
    "# Convert back to string\n",
    "start_date = start_date_obj.strftime('%Y-%m-%d')\n",
    "end_date = end_date_obj.strftime('%Y-%m-%d')\n",
    "\n",
    "print(f\"Start Date (Trading Day): {start_date}\")\n",
    "print(f\"End Date (Trading Day): {end_date}\")\n",
    "\n",
    "\n",
    "# Forex pairs to analyze\n",
    "currency_pairs = [\"CHFUSD\", \"EURUSD\", \"GBPUSD\", \"JPYUSD\", \"AUDUSD\", \"CADUSD\"]  # Add or modify as needed\n",
    "\n",
    "# Fetch data\n",
    "tickers = [f\"{c}=X\" for c in currency_pairs]\n",
    "fx_data = yf.download(\n",
    "    tickers, start_date, end_date, interval=interval,\n",
    ")[\"Close\"]\n",
    "\n",
    "# Drop weekends and NaN values (if any)\n",
    "fx_data = fx_data[fx_data.index.dayofweek < 5]\n",
    "# fx_data.dropna(how=\"any\", inplace=True)\n",
    "\n",
    "# Normalize data so all pairs start at the same value\n",
    "normalized_data = fx_data / fx_data.iloc[0]\n",
    "\n",
    "# Visualize the normalized data\n",
    "N = len(normalized_data.index)\n",
    "plt.figure(figsize=(12, 6))\n",
    "for pair in normalized_data.columns:\n",
    "    plt.plot(range(N), normalized_data[pair], label=pair)\n",
    "plt.title(\"Normalized Forex Pairs Historical Data\")\n",
    "plt.xlabel(\"Date\")\n",
    "plt.ylabel(\"Normalized Exchange Rate\")\n",
    "plt.legend()\n",
    "plt.grid()\n",
    "plt.show()\n"
   ]
  },
  {
   "cell_type": "code",
   "execution_count": null,
   "metadata": {},
   "outputs": [],
   "source": []
  },
  {
   "cell_type": "code",
   "execution_count": null,
   "metadata": {},
   "outputs": [],
   "source": []
  }
 ],
 "metadata": {
  "kernelspec": {
   "display_name": "fx",
   "language": "python",
   "name": "python3"
  },
  "language_info": {
   "codemirror_mode": {
    "name": "ipython",
    "version": 3
   },
   "file_extension": ".py",
   "mimetype": "text/x-python",
   "name": "python",
   "nbconvert_exporter": "python",
   "pygments_lexer": "ipython3",
   "version": "3.10.16"
  }
 },
 "nbformat": 4,
 "nbformat_minor": 2
}
